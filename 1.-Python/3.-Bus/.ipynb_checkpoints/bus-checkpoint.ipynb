{
 "cells": [
  {
   "cell_type": "markdown",
   "metadata": {},
   "source": [
    "<img src=\"https://bit.ly/2VnXWr2\" width=\"100\" align=\"left\">"
   ]
  },
  {
   "cell_type": "markdown",
   "metadata": {},
   "source": [
    "# Bus\n",
    "\n",
    "This bus has a passenger entry and exit control system to monitor the number of occupants it carries and thus detect when there are too many.\n",
    "\n",
    "At each stop, the entry and exit of passengers is represented by a tuple consisting of two integer numbers.\n",
    "```\n",
    "bus_stop = (in, out)\n",
    "```\n",
    "The succession of stops is represented by a list of these tuples.\n",
    "```\n",
    "stops = [(in1, out1), (in2, out2), (in3, out3), (in4, out4)]\n",
    "```\n",
    "\n",
    "## Tools\n",
    "You don't necessarily need to use all the tools. Maybe you opt to use some of them or completely different ones, they are given to help you shape the exercise. Programming exercises can be solved in many different ways.\n",
    "* Data structures: **lists, tuples**\n",
    "* Loop: **while/for loops**\n",
    "* Functions: **min, max, len**\n",
    "\n",
    "## Tasks"
   ]
  },
  {
   "cell_type": "code",
   "execution_count": 1,
   "metadata": {},
   "outputs": [],
   "source": [
    "# Variables\n",
    "stops = [(10, 0), (4, 1), (3, 5), (3, 4), (5, 1), (1, 5), (5, 8), (4, 6), (2, 3)]"
   ]
  },
  {
   "cell_type": "markdown",
   "metadata": {},
   "source": [
    "#### 1. Calculate the number of stops."
   ]
  },
  {
   "cell_type": "code",
   "execution_count": 2,
   "metadata": {},
   "outputs": [
    {
     "name": "stdout",
     "output_type": "stream",
     "text": [
      "9\n"
     ]
    }
   ],
   "source": [
    "# second attempt\n",
    "\n",
    "number_stops = len(stops)\n",
    "print(number_stops)"
   ]
  },
  {
   "cell_type": "markdown",
   "metadata": {},
   "source": [
    "#### 2. Assign to a variable a list whose elements are the number of passengers at each stop (in-out).\n",
    "Each item depends on the previous item in the list + in - out."
   ]
  },
  {
   "cell_type": "code",
   "execution_count": 36,
   "metadata": {},
   "outputs": [
    {
     "name": "stdout",
     "output_type": "stream",
     "text": [
      "The balance between passengers getting on/off the bus at stop 1 is 10.\n",
      "The number of passengers at stop 1 is 10.\n",
      "The balance between passengers getting on/off the bus at stop 2 is 3.\n",
      "The number of passengers at stop 2 is 13.\n",
      "The balance between passengers getting on/off the bus at stop 3 is -2.\n",
      "The number of passengers at stop 3 is 11.\n",
      "The balance between passengers getting on/off the bus at stop 4 is -1.\n",
      "The number of passengers at stop 4 is 10.\n",
      "The balance between passengers getting on/off the bus at stop 5 is 4.\n",
      "The number of passengers at stop 5 is 14.\n",
      "The balance between passengers getting on/off the bus at stop 6 is -4.\n",
      "The number of passengers at stop 6 is 10.\n",
      "The balance between passengers getting on/off the bus at stop 7 is -3.\n",
      "The number of passengers at stop 7 is 7.\n",
      "The balance between passengers getting on/off the bus at stop 8 is -2.\n",
      "The number of passengers at stop 8 is 5.\n",
      "[10, 13, 11, 10, 14, 10, 7, 5]\n"
     ]
    }
   ],
   "source": [
    "# second attempt\n",
    "\n",
    "difference_list = []\n",
    "difference = 0\n",
    "number_pass_list = []\n",
    "number_pass = 0\n",
    "\n",
    "\n",
    "for i in range(len(stops)-1):\n",
    "    difference = stops[i][0] - stops[i][1]\n",
    "    number_pass = number_pass + difference(i)\n",
    "    number_pass_list.append(number_pass)\n",
    "    print(f'The balance between passengers getting on/off the bus at stop {i+1} is {difference}.')\n",
    "    print(f'The number of passengers at stop {i+1} is {number_pass}.')\n",
    "\n",
    "print(number_pass_list)"
   ]
  },
  {
   "cell_type": "code",
   "execution_count": 57,
   "metadata": {},
   "outputs": [
    {
     "name": "stdout",
     "output_type": "stream",
     "text": [
      "10\n",
      "3\n",
      "-2\n",
      "-1\n",
      "4\n",
      "-4\n",
      "-3\n",
      "-2\n",
      "-1\n"
     ]
    },
    {
     "data": {
      "text/plain": [
       "[10, 3, -2, -1, 4, -4, -3, -2, -1]"
      ]
     },
     "execution_count": 57,
     "metadata": {},
     "output_type": "execute_result"
    }
   ],
   "source": [
    "# second attempt\n",
    "\n",
    "def difference(list):\n",
    "    difference_pass_list = []\n",
    "    for i in range(len(list)):\n",
    "        difference_pass = list[i][0] - list[i][1]\n",
    "        difference_pass_list.append(difference_pass)\n",
    "        print(difference_pass)\n",
    "    return difference_pass_list\n",
    "\n",
    "difference(stops)\n"
   ]
  },
  {
   "cell_type": "markdown",
   "metadata": {},
   "source": [
    "#### 3. Find the maximum occupation of the bus."
   ]
  },
  {
   "cell_type": "code",
   "execution_count": 42,
   "metadata": {},
   "outputs": [
    {
     "name": "stdout",
     "output_type": "stream",
     "text": [
      "The maximum occupation is 14 passengers at stop 5.\n"
     ]
    }
   ],
   "source": [
    "# second attempt\n",
    "\n",
    "print(f'The maximum occupation is {max(number_pass_list)} passengers at stop {number_pass_list.index(max(number_pass_list)) +1}.')\n",
    "    "
   ]
  },
  {
   "cell_type": "markdown",
   "metadata": {},
   "source": [
    "#### 4. Calculate the average occupation. And the standard deviation."
   ]
  },
  {
   "cell_type": "code",
   "execution_count": 48,
   "metadata": {},
   "outputs": [
    {
     "name": "stdout",
     "output_type": "stream",
     "text": [
      "The average occupation is approx. 9.\n"
     ]
    }
   ],
   "source": [
    "# second attempt\n",
    "average = sum(number_pass_list)/ number_stops\n",
    "print(f'The average occupation is approx. {round(average)}.')"
   ]
  },
  {
   "cell_type": "code",
   "execution_count": null,
   "metadata": {},
   "outputs": [],
   "source": []
  },
  {
   "cell_type": "code",
   "execution_count": null,
   "metadata": {},
   "outputs": [],
   "source": []
  },
  {
   "cell_type": "code",
   "execution_count": null,
   "metadata": {},
   "outputs": [],
   "source": []
  },
  {
   "cell_type": "code",
   "execution_count": 27,
   "metadata": {},
   "outputs": [
    {
     "name": "stdout",
     "output_type": "stream",
     "text": [
      "The total number of stops is 9\n",
      "----------------------\n",
      "Total of passengers getting on/ off at this stop: 10\n",
      "Number of passengers in the bus after this stop: 10\n",
      "------------------------\n",
      "Total of passengers getting on/ off at this stop: 3\n",
      "Number of passengers in the bus after this stop: 13\n",
      "------------------------\n",
      "Total of passengers getting on/ off at this stop: -2\n",
      "Number of passengers in the bus after this stop: 11\n",
      "------------------------\n",
      "Total of passengers getting on/ off at this stop: -1\n",
      "Number of passengers in the bus after this stop: 10\n",
      "------------------------\n",
      "Total of passengers getting on/ off at this stop: 4\n",
      "Number of passengers in the bus after this stop: 14\n",
      "------------------------\n",
      "Total of passengers getting on/ off at this stop: -4\n",
      "Number of passengers in the bus after this stop: 10\n",
      "------------------------\n",
      "Total of passengers getting on/ off at this stop: -3\n",
      "Number of passengers in the bus after this stop: 7\n",
      "------------------------\n",
      "Total of passengers getting on/ off at this stop: -2\n",
      "Number of passengers in the bus after this stop: 5\n",
      "------------------------\n",
      "Total of passengers getting on/ off at this stop: -1\n",
      "Number of passengers in the bus after this stop: 4\n",
      "------------------------\n",
      "The maximum occupation is: 14\n",
      "----------------------\n",
      "The average occupation is: 9.333\n",
      "----------------------\n",
      "The standard deviation is: 3.197\n"
     ]
    }
   ],
   "source": [
    "#Tarea 3 - Bus\n",
    "\n",
    "import numpy\n",
    "\n",
    "# Variables\n",
    "\n",
    "\n",
    "\n",
    "stops = [(10, 0), (4, 1), (3, 5), (3, 4), (5, 1), (1, 5), (5, 8), (4, 6), (2, 3)]\n",
    "\n",
    "number_stops = len(stops)\n",
    "print(\"The total number of stops is \" + str(number_stops))\n",
    "print(\"----------------------\")\n",
    "\n",
    "list_passengers_at_stop = []\n",
    "\n",
    "accum = 0\n",
    "for n in range(number_stops):\n",
    "    total_per_stop = stops[n][0] - stops[n][1] \n",
    "    accum = total_per_stop + accum\n",
    "    print(\"Total of passengers getting on/ off at this stop: \" + str(total_per_stop))\n",
    "    print(\"Number of passengers in the bus after this stop: \" + str(accum))\n",
    "    print(\"------------------------\")\n",
    "    list_passengers_at_stop.append(accum)\n",
    "\n",
    "list_passengers_at_stop\n",
    "\n",
    "maximum_occupation = max(list_passengers_at_stop)\n",
    "print(\"The maximum occupation is: \" + str(maximum_occupation))\n",
    "print(\"----------------------\")\n",
    "\n",
    "average_occupation = round(sum(list_passengers_at_stop) / len(list_passengers_at_stop), 3) \n",
    "print(\"The average occupation is: \" + str(average_occupation))\n",
    "print(\"----------------------\")\n",
    "\n",
    "st_dev = round(numpy.std(list_passengers_at_stop),3)\n",
    "print(\"The standard deviation is: \" + str(st_dev))\n",
    "\n",
    "\n"
   ]
  },
  {
   "cell_type": "code",
   "execution_count": null,
   "metadata": {},
   "outputs": [],
   "source": []
  }
 ],
 "metadata": {
  "kernelspec": {
   "display_name": "Python 3",
   "language": "python",
   "name": "python3"
  },
  "language_info": {
   "codemirror_mode": {
    "name": "ipython",
    "version": 3
   },
   "file_extension": ".py",
   "mimetype": "text/x-python",
   "name": "python",
   "nbconvert_exporter": "python",
   "pygments_lexer": "ipython3",
   "version": "3.8.3"
  }
 },
 "nbformat": 4,
 "nbformat_minor": 2
}
