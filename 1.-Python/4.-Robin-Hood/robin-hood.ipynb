{
 "cells": [
  {
   "cell_type": "markdown",
   "metadata": {},
   "source": [
    "<img src=\"https://bit.ly/2VnXWr2\" width=\"100\" align=\"left\"/>"
   ]
  },
  {
   "cell_type": "markdown",
   "metadata": {},
   "source": [
    "# Robin Hood\n",
    "Robin Hood has entered a competition to win the archery contest in Sherwood. With his bow and arrows, he needs to shoot on a target and try to hit as close as possible to the center.\n",
    "\n",
    "![](images/arrows.jpg)\n",
    "\n",
    "## Context\n",
    "In this challenge, the landing position of arrows shot by archers in the competition will be represented using 2-dimensional coordinates. \n",
    "\n",
    "In the 2-dimensional space, a point can be defined by a pair of values that correspond to the horizontal coordinate (x) and the vertical coordinate (y). For example, in our case, an arrow that hits the center of the archery target will land in position (0, 0) on the coordinate axes. \n",
    "\n",
    "The space can be divided into 4 zones (quadrants): Q1, Q2, Q3, Q4. If a point is in Q1, both its x coordinate and y coordinate are positive. Any point with a null x or y coordinate is considered to not belong to any quadrant. \n",
    "\n",
    "If you want to know more about the cartesian coordinate system, you can check this [link](https://en.wikipedia.org/wiki/Cartesian_coordinate_system). \n",
    "\n",
    "## Tools\n",
    "You don't necessarily need to use all the tools. Maybe you opt to use some of them or completely different ones, they are given to help you shape the exercise. Programming exercises can be solved in many different ways.\n",
    "* Data structures: **lists, sets, tuples**\n",
    "* Conditional statements: **if-elif-else**\n",
    "* Loop: **while/for**\n",
    "* Minimum (optional sorting)\n",
    "\n",
    "## Tasks\n",
    "Robin Hood has hit the following points:"
   ]
  },
  {
   "cell_type": "code",
   "execution_count": 2,
   "metadata": {},
   "outputs": [
    {
     "name": "stdout",
     "output_type": "stream",
     "text": [
      "{(-3, 2), (4, 5), (5, 7), (2, 2)}\n"
     ]
    }
   ],
   "source": [
    "# second attempt\n",
    "\n",
    "points = [(4, 5), (-0, 2), (4, 7), (1, -3), (3, -2), (4, 5), (3, 2), (5, 7), (-5, 7), (2, 2), (-4, 5), (0, -2),\n",
    "          (-4, 7), (-1, 3), (-3, 2), (-4, -5), (-3, 2), (5, 7), (5, 7), (2, 2), (9, 9), (-8, -9)]\n",
    "\n",
    "\n",
    "\n",
    "list_doubles = []\n",
    "for i in points:\n",
    "    if points.count(i) >1:\n",
    "        list_doubles.append(i)\n",
    "\n",
    "print(set(list_doubles))"
   ]
  },
  {
   "cell_type": "markdown",
   "metadata": {},
   "source": [
    "#### 1. Robin Hood is famous for hitting an arrow with another arrow. Find the coordinates of the points where an arrow hits another arrow."
   ]
  },
  {
   "cell_type": "code",
   "execution_count": 4,
   "metadata": {},
   "outputs": [],
   "source": [
    "# second attempt\n",
    "\n",
    "list_hit_points = []\n",
    "for i, y in points:\n",
    "        if points[0] == points[1]:\n",
    "            list_hit_points.append\n",
    "        "
   ]
  },
  {
   "cell_type": "markdown",
   "metadata": {},
   "source": [
    "#### 2. Calculate how many arrows have fallen in each quadrant. \n",
    "**Note**: the arrows that fall in the axis (x=0 or y=0) don't belong to any quadrant."
   ]
  },
  {
   "cell_type": "code",
   "execution_count": 7,
   "metadata": {},
   "outputs": [
    {
     "name": "stdout",
     "output_type": "stream",
     "text": [
      "10\n",
      "7\n",
      "11\n",
      "4\n"
     ]
    }
   ],
   "source": [
    "quadrant1 = 0\n",
    "quadrant2 = 0\n",
    "quadrant3 = 0 \n",
    "quadrant4 = 0\n",
    "\n",
    "for i in range(len(points)):\n",
    "    if points[i][0] > 0 and points[i][1] > 0:\n",
    "        quadrant1 = quadrant1 +1\n",
    "    elif points[i][0] < 0 and points[i][1] > 0:\n",
    "        quadrant2 = quadrant1 +1\n",
    "    elif points[i][0] < 0 and points[i][1] < 0:\n",
    "        quadrant3 = quadrant1 +1\n",
    "    else:\n",
    "        quadrant4 = quadrant4 +1\n",
    "        \n",
    "print(quadrant1)\n",
    "print(quadrant2)\n",
    "print(quadrant3)\n",
    "print(quadrant4)\n"
   ]
  },
  {
   "cell_type": "markdown",
   "metadata": {},
   "source": [
    "#### 3. Find the point closest to the center. Calculate its distance to the center. \n",
    "Take into account that there might be more than one point at the minimum distance to the center.\n",
    "\n",
    "**Hint**: Use the Euclidean distance. You can find more information about it [here](https://en.wikipedia.org/wiki/Euclidean_distance).  \n",
    "**Hint**: Defining a function that calculates the distance to the center can help."
   ]
  },
  {
   "cell_type": "code",
   "execution_count": 41,
   "metadata": {},
   "outputs": [
    {
     "name": "stdout",
     "output_type": "stream",
     "text": [
      "[6.4, 2.0, 8.06, 3.16, 3.61, 6.4, 3.61, 8.6, 8.6, 2.83, 6.4, 2.0, 8.06, 3.16, 3.61, 6.4, 3.61, 8.6, 8.6, 2.83, 12.73, 12.04]\n",
      "This is on of the minimum distance points: (0, 2)\n",
      "This is on of the minimum distance points: (0, -2)\n"
     ]
    }
   ],
   "source": [
    "# Formel: ((x1)**2 + (x2)**2)**0.5\n",
    "list_dist = []\n",
    "for i in range(len(points)):\n",
    "    d = round(((points[i][0])**2 + (points[i][1])**2)**0.5, 2)\n",
    "    list_dist.append(d)\n",
    "\n",
    "    \n",
    "def index(x):\n",
    "    count = 0\n",
    "    list_indice = []\n",
    "    for i in x:\n",
    "        if i == (min(x)):\n",
    "            list_indice.append(count)\n",
    "        count = count +1\n",
    "    return list_indice\n",
    "\n",
    "print(list_dist)\n",
    "round(list_dist.index(min(list_dist)))\n",
    "index(list_dist)\n",
    "\n",
    "for i in index(list_dist):\n",
    "    print(f'This is on of the minimum distance points: {points[i]}')\n",
    "    \n"
   ]
  },
  {
   "cell_type": "markdown",
   "metadata": {},
   "source": [
    "#### 4. If the archery target has a radius of 9, calculate the number of arrows that won't hit the target. \n",
    "**Hint**: Use the function created in step 3. "
   ]
  },
  {
   "cell_type": "code",
   "execution_count": 45,
   "metadata": {},
   "outputs": [
    {
     "name": "stdout",
     "output_type": "stream",
     "text": [
      "This is on of the points with a bigger radius than 9: (9, 9)\n",
      "This is on of the points with a bigger radius than 9: (-8, -9)\n"
     ]
    }
   ],
   "source": [
    "def index9 (x):\n",
    "    count = 0\n",
    "    list_indice9 = []\n",
    "    for i in x:\n",
    "        if i > 9:\n",
    "            list_indice9.append(count)\n",
    "        count = count +1\n",
    "    return list_indice9\n",
    "\n",
    "index9(list_dist)\n",
    "\n",
    "for i in index9(list_dist):\n",
    "    print(f'This is on of the points with a bigger radius than 9: {points[i]}')"
   ]
  },
  {
   "cell_type": "code",
   "execution_count": 46,
   "metadata": {},
   "outputs": [
    {
     "name": "stdout",
     "output_type": "stream",
     "text": [
      "Robin Hood's double hits happen at the following points:\n",
      "(4, 5)\n",
      "(4, 5)\n",
      "(4, 5)\n",
      "(5, 7)\n",
      "(5, 7)\n",
      "(2, 2)\n",
      "(-3, 2)\n",
      "(5, 7)\n",
      "----------------------------\n",
      "The number of arrows in quadrant 1 is: 10\n",
      "The number of arrows in quadrant 2 is: 6\n",
      "The number of arrows in quadrant 3 is: 2\n",
      "The number of arrows in quadrant 4 is: 2\n",
      "The number of arrows at the margin of the 4 is: 2\n",
      "--------------------\n",
      "The minimum distance is: 2.0\n",
      "------------------------\n",
      "The points with the minimum distance to the origin are:\n",
      "(0, 2)\n",
      "(0, -2)\n",
      "------------------------\n",
      "Number of arrows that land beyond a radius of 9: 1\n"
     ]
    }
   ],
   "source": [
    "# Task 4 Robin Hood\n",
    "import math\n",
    "# variables\n",
    "\n",
    "points = [(4, 5), (-0, 2), (4, 7), (1, -3), (3, -2), (4, 5), (3, 2), (5, 7), (-5, 7), (2, 2), (-4, 5), (0, -2),\n",
    "          (-4, 7), (-1, 3), (-3, 2), (-4, -5), (-3, 2), (5, 7), (5, 7), (2, 2), (-8, -9), (4, 5)]\n",
    "\n",
    "print(\"Robin Hood's double hits happen at the following points:\")\n",
    "for n in range(1, len(points)):\n",
    "    if points[0] == points[n]:\n",
    "        print(str(points[0]))\n",
    "        \n",
    "for n in range(2, len(points)):\n",
    "    if points[1] == points[n]:\n",
    "        print(str(points[1]))\n",
    "        \n",
    "for n in range(3, len(points)):\n",
    "    if points[2] == points[n]:\n",
    "        print(str(points[2]))\n",
    "        \n",
    "for n in range(4, len(points)):\n",
    "    if points[3] == points[n]:\n",
    "        print(str(points[3]))\n",
    "        \n",
    "for n in range(5, len(points)):\n",
    "    if points[4] == points[n]:\n",
    "        print(str(points[4]))\n",
    "        \n",
    "for n in range(6, len(points)):\n",
    "    if points[5] == points[n]:\n",
    "        print(str(points[5]))\n",
    "\n",
    "for n in range(7, len(points)):\n",
    "    if points[6] == points[n]:\n",
    "        print(str(points[6]))\n",
    "        \n",
    "for n in range(8, len(points)):\n",
    "    if points[7] == points[n]:\n",
    "        print(str(points[7]))\n",
    "\n",
    "for n in range(9, len(points)):\n",
    "    if points[8] == points[n]:\n",
    "        print(str(points[8]))\n",
    "        \n",
    "for n in range(10, len(points)):\n",
    "    if points[9] == points[n]:\n",
    "        print(str(points[9]))\n",
    "\n",
    "for n in range(11, len(points)):\n",
    "    if points[10] == points[n]:\n",
    "        print(str(points[10]))\n",
    "        \n",
    "for n in range(12, len(points)):\n",
    "    if points[11] == points[n]:\n",
    "        print(str(points[11]))\n",
    "        \n",
    "for n in range(13, len(points)):\n",
    "    if points[12] == points[n]:\n",
    "        print(str(points[12]))\n",
    "        \n",
    "for n in range(14, len(points)):\n",
    "    if points[13] == points[n]:\n",
    "        print(str(points[13]))\n",
    "        \n",
    "for n in range(15, len(points)):\n",
    "    if points[14] == points[n]:\n",
    "        print(str(points[14]))\n",
    "        \n",
    "for n in range(16, len(points)):\n",
    "    if points[15] == points[n]:\n",
    "        print(str(points[15]))\n",
    "\n",
    "for n in range(17, len(points)):\n",
    "    if points[16] == points[n]:\n",
    "        print(str(points[16]))\n",
    "        \n",
    "for n in range(18, len(points)):\n",
    "    if points[17] == points[n]:\n",
    "        print(str(points[17]))\n",
    "\n",
    "for n in range(19, len(points)):\n",
    "    if points[18] == points[n]:\n",
    "        print(str(points[18]))\n",
    "        \n",
    "for n in range(20, len(points)):\n",
    "    if points[19] == points[n]:\n",
    "        print(str(points[19]))\n",
    "\n",
    "for n in range(21, len(points)):\n",
    "    if points[20] == points[n]:\n",
    "        print(str(points[20]))\n",
    "\n",
    "print(\"----------------------------\")\n",
    "\n",
    "#b Quadrants (1: ++/ 2: -+/ 3: --/ 4: +-)\n",
    "\n",
    "count_q1 = 0\n",
    "count_q2 = 0\n",
    "count_q3 = 0\n",
    "count_q4 = 0\n",
    "count_none = 0\n",
    "\n",
    "i = 0\n",
    "while(i < len(points)):\n",
    "    if points[i][0] > 0 and points[i][1] > 0:\n",
    "        count_q1 = count_q1 +1\n",
    "    elif points[i][0] < 0 and points[i][1] > 0:\n",
    "        count_q2 = count_q2 +1\n",
    "    elif points[i][0] < 0 and points[i][1] < 0:\n",
    "        count_q3 += 1\n",
    "    elif points[i][0] > 0 and points[i][1] < 0:\n",
    "        count_q4 += 1\n",
    "    else:\n",
    "        count_none += 1\n",
    "    i = i +1\n",
    "\n",
    "\n",
    "print(\"The number of arrows in quadrant 1 is: \" + str(count_q1))\n",
    "print(\"The number of arrows in quadrant 2 is: \" + str(count_q2))\n",
    "print(\"The number of arrows in quadrant 3 is: \" + str(count_q3))\n",
    "print(\"The number of arrows in quadrant 4 is: \" + str(count_q4))\n",
    "print(\"The number of arrows at the margin of the 4 is: \" + str(count_q4))\n",
    "print(\"--------------------\")\n",
    "# Nearest point to the center\n",
    "\n",
    "#Parameter coordinate = tuple of 2 values (5,6)\n",
    "def distance(coordinate):\n",
    "    d = round(math.sqrt(coordinate[0]**2 + coordinate[1]**2), 3)\n",
    "    return d\n",
    "\n",
    "list_distance =[]\n",
    "i = 0\n",
    "while(i < len(points)):\n",
    "    list_distance.append(distance(points[i]))\n",
    "    i = i +1\n",
    "min_distance = min(list_distance)\n",
    "print(\"The minimum distance is: \" + str(min_distance))\n",
    "print(\"------------------------\")\n",
    "\n",
    "print(\"The points with the minimum distance to the origin are:\")\n",
    "i = 0\n",
    "while(i <= len(list_distance) -1):\n",
    "    if min_distance == list_distance[i]:\n",
    "        print(points[i])\n",
    "    i = i+1\n",
    "print(\"------------------------\")\n",
    "    \n",
    "rad_over9 = 0\n",
    "i = 0\n",
    "while(i < len(list_distance)):\n",
    "    if 9 < distance(points[i]):\n",
    "        rad_over9 = rad_over9 +1\n",
    "    i = i +1\n",
    "\n",
    "print(\"Number of arrows that land beyond a radius of 9: \" + str(rad_over9))"
   ]
  },
  {
   "cell_type": "code",
   "execution_count": null,
   "metadata": {},
   "outputs": [],
   "source": []
  },
  {
   "cell_type": "code",
   "execution_count": null,
   "metadata": {},
   "outputs": [],
   "source": []
  },
  {
   "cell_type": "code",
   "execution_count": null,
   "metadata": {},
   "outputs": [],
   "source": []
  },
  {
   "cell_type": "code",
   "execution_count": null,
   "metadata": {},
   "outputs": [],
   "source": [
    "###### Exercice stuff"
   ]
  },
  {
   "cell_type": "code",
   "execution_count": 47,
   "metadata": {},
   "outputs": [
    {
     "name": "stdout",
     "output_type": "stream",
     "text": [
      "Tiger\n",
      "Lion\n",
      "Cheetah\n",
      "Dog\n",
      "Wolf\n",
      "Fox\n",
      "Snake\n",
      "Crocodile\n",
      "Iguana\n"
     ]
    }
   ],
   "source": [
    "# Example nested loop\n",
    "\n",
    "cats = (\"Tiger\",\"Lion\",\"Cheetah\")\n",
    "canids = (\"Dog\",\"Wolf\",\"Fox\")\n",
    "reptiles = (\"Snake\",\"Crocodile\",\"Iguana\")\n",
    "animals = (cats, canids, reptiles)\n",
    "\n",
    "for family in animals:\n",
    "    for animal in family:\n",
    "        print(animal)"
   ]
  },
  {
   "cell_type": "code",
   "execution_count": 56,
   "metadata": {},
   "outputs": [
    {
     "name": "stdout",
     "output_type": "stream",
     "text": [
      "16\n",
      "28\n",
      "8\n",
      "36\n",
      "24\n",
      "28\n",
      "49\n",
      "14\n",
      "63\n",
      "42\n",
      "8\n",
      "14\n",
      "4\n",
      "18\n",
      "12\n",
      "36\n",
      "63\n",
      "18\n",
      "81\n",
      "54\n",
      "24\n",
      "42\n",
      "12\n",
      "54\n",
      "36\n"
     ]
    }
   ],
   "source": [
    "# example 2 nested loop\n",
    "\n",
    "list = [4,7,2,9,6]\n",
    "\n",
    "for i in list:\n",
    "    for y in list:\n",
    "        print(i*y)"
   ]
  },
  {
   "cell_type": "code",
   "execution_count": null,
   "metadata": {},
   "outputs": [],
   "source": []
  }
 ],
 "metadata": {
  "kernelspec": {
   "display_name": "Python 3",
   "language": "python",
   "name": "python3"
  },
  "language_info": {
   "codemirror_mode": {
    "name": "ipython",
    "version": 3
   },
   "file_extension": ".py",
   "mimetype": "text/x-python",
   "name": "python",
   "nbconvert_exporter": "python",
   "pygments_lexer": "ipython3",
   "version": "3.8.3"
  }
 },
 "nbformat": 4,
 "nbformat_minor": 2
}
